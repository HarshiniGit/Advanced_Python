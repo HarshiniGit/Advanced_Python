{
 "cells": [
  {
   "cell_type": "code",
   "execution_count": null,
   "metadata": {},
   "outputs": [],
   "source": [
    "#T-Shirt: Write a function called make_shirt() that accepts a size and \n",
    "#the text of a message that should be printed on the shirt. \n",
    "#The function should print a sentence summarizing the size of the shirt and the message printed on it.\n",
    "#Call the function once using positional arguments to make a shirt. \n",
    "#Call the function a second time using keyword arguments."
   ]
  },
  {
   "cell_type": "code",
   "execution_count": 1,
   "metadata": {},
   "outputs": [],
   "source": [
    "# Defining a function make_shirt with parameters size and Text on shirt\n",
    "def make_shirt(size, text_on_Shirt):\n",
    "    \"\"\"Mentioning the details of the shirt\"\"\"\n",
    "\n",
    "#Printing the statement that summarize size and message to be printed on shirt\n",
    "    print(f'The size of the shirt is {size}')\n",
    "    print(f'The {size} sized shirt should have the text as {text_on_Shirt}')"
   ]
  },
  {
   "cell_type": "code",
   "execution_count": 2,
   "metadata": {},
   "outputs": [
    {
     "name": "stdout",
     "output_type": "stream",
     "text": [
      "The size of the shirt is Small\n",
      "The Small sized shirt should have the text as CATCH ME IF YOU CAN...!\n"
     ]
    }
   ],
   "source": [
    "# Calling the function with Positional arguments to make shirt\n",
    "\n",
    "make_shirt(size = 'Small', text_on_Shirt = 'CATCH ME IF YOU CAN...!')"
   ]
  },
  {
   "cell_type": "code",
   "execution_count": 3,
   "metadata": {},
   "outputs": [
    {
     "name": "stdout",
     "output_type": "stream",
     "text": [
      "The size of the shirt is medium\n",
      "The medium sized shirt should have the text as Your effort never goes in Vain...! Cheers...!\n"
     ]
    }
   ],
   "source": [
    "# Calling the function with Positional arguments to make shirt\n",
    "\n",
    "make_shirt('medium','Your effort never goes in Vain...! Cheers...!')"
   ]
  },
  {
   "cell_type": "code",
   "execution_count": 4,
   "metadata": {},
   "outputs": [],
   "source": [
    "# defining the function with keyword arguments to make shirt\n",
    "\n",
    "def make_shirt(size= 'small', text_on_Shirt = 'How am I coding'):\n",
    "    \"\"\"Mentioning the details of the shirt\"\"\"\n",
    "\n",
    "#Printing the statement that summarize size and message to be printed on shirt\n",
    "    print(f'The size of the shirt is {size}')\n",
    "    print(f'The {size} sized shirt should have the text as {text_on_Shirt}')"
   ]
  },
  {
   "cell_type": "code",
   "execution_count": 5,
   "metadata": {},
   "outputs": [
    {
     "name": "stdout",
     "output_type": "stream",
     "text": [
      "The size of the shirt is small\n",
      "The small sized shirt should have the text as How am I coding\n"
     ]
    }
   ],
   "source": [
    "# Calling the function with keyword arguments to make shirt\n",
    "\n",
    "make_shirt()"
   ]
  },
  {
   "cell_type": "code",
   "execution_count": null,
   "metadata": {},
   "outputs": [],
   "source": [
    ".#Large Shirts: Modify the make_shirt() function so that shirts are large\n",
    "#by default with a message that reads I love Python. \n",
    "#Make a large shirt and a medium shirt with the default message, and a shirt of any size with a different message.\n"
   ]
  },
  {
   "cell_type": "code",
   "execution_count": 6,
   "metadata": {},
   "outputs": [],
   "source": [
    "#Defining a function for making the shirt of large size with default message\n",
    "\n",
    "def make_shirt(size= 'large', text_on_Shirt = 'I love Python'):\n",
    "    \"\"\"Mentioning the details of the shirt\"\"\"\n",
    "    \n",
    "#Printing the statement that summarize size and message to be printed on shirt\n",
    "    print(f'The size of the shirt is {size}')\n",
    "    print(f'The {size} sized shirt should have the text as {text_on_Shirt}')"
   ]
  },
  {
   "cell_type": "code",
   "execution_count": 7,
   "metadata": {},
   "outputs": [
    {
     "name": "stdout",
     "output_type": "stream",
     "text": [
      "The size of the shirt is large\n",
      "The large sized shirt should have the text as I love Python\n"
     ]
    }
   ],
   "source": [
    "#Calling the function for making large size shirt and message to be printed\n",
    "\n",
    "make_shirt()"
   ]
  },
  {
   "cell_type": "code",
   "execution_count": 8,
   "metadata": {},
   "outputs": [],
   "source": [
    "#Defining a function for making the shirt of large size with default message\n",
    "\n",
    "def make_shirt(text_on_Shirt,size = 'large'):\n",
    "    \"\"\"Mentioning the details of the shirt\"\"\"\n",
    "    \n",
    "#Printing the statement that summarize size and message to be printed on shirt\n",
    "    print(f'The size of the shirt is {size}')\n",
    "    print(f'The {size} sized shirt should have the text as {text_on_Shirt}')"
   ]
  },
  {
   "cell_type": "code",
   "execution_count": 9,
   "metadata": {},
   "outputs": [
    {
     "name": "stdout",
     "output_type": "stream",
     "text": [
      "The size of the shirt is large\n",
      "The large sized shirt should have the text as I love Python\n"
     ]
    }
   ],
   "source": [
    "#Calling the function for making large size shirt and message to be printed\n",
    "\n",
    "make_shirt('I love Python')"
   ]
  },
  {
   "cell_type": "code",
   "execution_count": 10,
   "metadata": {},
   "outputs": [
    {
     "name": "stdout",
     "output_type": "stream",
     "text": [
      "please enter thr choice of size :medium\n",
      "medium\n",
      "The size of the shirt is medium\n",
      "The medium sized shirt should have the text as Data is large and its usage is medium \n"
     ]
    }
   ],
   "source": [
    "#coding to input the required size and printing size\n",
    "\n",
    "size = input(\"please enter thr choice of size :\")\n",
    "print(size)\n",
    "\n",
    "# Making large and medium shirts with a particular mesaage\n",
    "\n",
    "# Using the If conditional statement for achieving this\n",
    "if size == 'large' or size == 'medium':\n",
    "    def make_shirt1(size,text_on_Shirt):\n",
    "        print(f'The size of the shirt is {size}')\n",
    "        print(f'The {size} sized shirt should have the text as {text_on_Shirt} ')\n",
    "    make_shirt1(size,text_on_Shirt = 'Data is large and its usage is medium')\n",
    "\n",
    "# Coding for default size and default message for rest of size other than large and medium\n",
    "else :\n",
    "    def make_shirt2(size,text_on_Shirt):\n",
    "        print(f'The size of the shirt is {size}')\n",
    "        print(f'The {size} sized shirt should have the text as {text_on_Shirt}')\n",
    "    make_shirt1(size,text_on_Shirt = 'High time for you... start using the data...!')"
   ]
  },
  {
   "cell_type": "code",
   "execution_count": null,
   "metadata": {},
   "outputs": [],
   "source": [
    "#Cities: Write a function called describe_city() that accepts the name of a city and its country. \n",
    "#The function should print a simple sentence, such as Reykjavik is in Iceland. "
   ]
  },
  {
   "cell_type": "code",
   "execution_count": 11,
   "metadata": {},
   "outputs": [],
   "source": [
    "#Defining a function to describe a city and accepts cityname and countryname\n",
    "\n",
    "def describe_city(city_name, country_name):\n",
    "    \"\"\"Describing the city and its Country\"\"\"\n",
    "\n",
    "# printing as per requirement (see above)\n",
    "    print(f'{city_name} is in {country_name}')"
   ]
  },
  {
   "cell_type": "code",
   "execution_count": 12,
   "metadata": {},
   "outputs": [
    {
     "name": "stdout",
     "output_type": "stream",
     "text": [
      "Reykjavik is in Iceland\n"
     ]
    }
   ],
   "source": [
    "#Calling the function with positional arguments\n",
    "describe_city('Reykjavik','Iceland')"
   ]
  },
  {
   "cell_type": "code",
   "execution_count": null,
   "metadata": {},
   "outputs": [],
   "source": []
  }
 ],
 "metadata": {
  "kernelspec": {
   "display_name": "Python 3",
   "language": "python",
   "name": "python3"
  },
  "language_info": {
   "codemirror_mode": {
    "name": "ipython",
    "version": 3
   },
   "file_extension": ".py",
   "mimetype": "text/x-python",
   "name": "python",
   "nbconvert_exporter": "python",
   "pygments_lexer": "ipython3",
   "version": "3.7.6"
  }
 },
 "nbformat": 4,
 "nbformat_minor": 4
}
