{
 "cells": [
  {
   "cell_type": "code",
   "execution_count": 1,
   "metadata": {},
   "outputs": [],
   "source": [
    "#Understanding dataframe:\n",
    "import numpy as np\n",
    "import pandas as pd"
   ]
  },
  {
   "cell_type": "code",
   "execution_count": null,
   "metadata": {},
   "outputs": [],
   "source": [
    "#dataframes can handle 2D data\n",
    "general sytax of dataframe:\n",
    "    pandas.DataFrame(data,index,columns,dtype,copy)"
   ]
  },
  {
   "cell_type": "code",
   "execution_count": null,
   "metadata": {},
   "outputs": [],
   "source": [
    "#creating an empty dataframe"
   ]
  },
  {
   "cell_type": "code",
   "execution_count": 2,
   "metadata": {},
   "outputs": [
    {
     "name": "stdout",
     "output_type": "stream",
     "text": [
      "Empty DataFrame\n",
      "Columns: []\n",
      "Index: []\n"
     ]
    }
   ],
   "source": [
    "df = pd.DataFrame()\n",
    "print(df)"
   ]
  },
  {
   "cell_type": "code",
   "execution_count": 3,
   "metadata": {},
   "outputs": [
    {
     "name": "stdout",
     "output_type": "stream",
     "text": [
      "          0\n",
      "0       ram\n",
      "1      Ram2\n",
      "2  Jyothsna\n",
      "3    hameed\n",
      "4   subrata\n"
     ]
    }
   ],
   "source": [
    "#Creating a dataframe from lists:\n",
    "data = ['ram','Ram2','Jyothsna','hameed','subrata']\n",
    "df = pd.DataFrame(data)\n",
    "print(df)"
   ]
  },
  {
   "cell_type": "code",
   "execution_count": 9,
   "metadata": {},
   "outputs": [
    {
     "name": "stdout",
     "output_type": "stream",
     "text": [
      "        name  marks\n",
      "0  aishwarya     10\n",
      "1   Harshini      8\n",
      "2     swetha      9\n",
      "3   Jyothsna      8\n"
     ]
    }
   ],
   "source": [
    "data1 = [['aishwarya',10],['Harshini',8],['swetha',9],['Jyothsna',8]]\n",
    "df = pd.DataFrame(data1,columns = ['name','marks'])\n",
    "print(df)"
   ]
  },
  {
   "cell_type": "code",
   "execution_count": 10,
   "metadata": {},
   "outputs": [
    {
     "name": "stdout",
     "output_type": "stream",
     "text": [
      "        name  marks\n",
      "0  aishwarya   10.0\n",
      "1   Harshini    8.0\n",
      "2     swetha    9.0\n",
      "3   Jyothsna    8.0\n"
     ]
    }
   ],
   "source": [
    "data1 = [['aishwarya',10],['Harshini',8],['swetha',9],['Jyothsna',8]]\n",
    "df = pd.DataFrame(data1,columns = ['name','marks'], dtype = float)\n",
    "print(df)"
   ]
  },
  {
   "cell_type": "code",
   "execution_count": 11,
   "metadata": {},
   "outputs": [
    {
     "name": "stdout",
     "output_type": "stream",
     "text": [
      "        name  marks\n",
      "0  aishwarya   10.0\n",
      "1   Harshini    8.5\n",
      "2     swetha    9.0\n",
      "3   Jyothsna    8.0\n"
     ]
    }
   ],
   "source": [
    "data1 = [['aishwarya',10],['Harshini',8.5],['swetha',9],['Jyothsna',8]]\n",
    "df = pd.DataFrame(data1,columns = ['name','marks'])\n",
    "print(df)"
   ]
  },
  {
   "cell_type": "code",
   "execution_count": 12,
   "metadata": {},
   "outputs": [
    {
     "name": "stdout",
     "output_type": "stream",
     "text": [
      "            name  marks\n",
      "rank1  aishwarya     10\n",
      "rank2   Harshini      8\n",
      "rank3     swetha      9\n",
      "rank2   Jyothsna      8\n"
     ]
    }
   ],
   "source": [
    "data1 = [['aishwarya',10],['Harshini',8],['swetha',9],['Jyothsna',8]]\n",
    "df = pd.DataFrame(data1,columns = ['name','marks'],index = ['rank1','rank2','rank3','rank2'])\n",
    "print(df)"
   ]
  },
  {
   "cell_type": "code",
   "execution_count": null,
   "metadata": {},
   "outputs": [],
   "source": [
    "#creating a dataframe from dict of ndarrays/list"
   ]
  },
  {
   "cell_type": "code",
   "execution_count": null,
   "metadata": {},
   "outputs": [],
   "source": [
    "#Dictionaries by default would be converted as columns in pandas"
   ]
  },
  {
   "cell_type": "code",
   "execution_count": 13,
   "metadata": {},
   "outputs": [
    {
     "name": "stdout",
     "output_type": "stream",
     "text": [
      "       name  age\n",
      "0    bikesh   25\n",
      "1  abhishek   26\n",
      "2   abdulla   27\n",
      "3     afnan   22\n"
     ]
    }
   ],
   "source": [
    "data={'name':['bikesh','abhishek','abdulla','afnan'],'age' : [25,26,27,22]}\n",
    "df = pd.DataFrame(data)\n",
    "print(df)"
   ]
  },
  {
   "cell_type": "code",
   "execution_count": null,
   "metadata": {},
   "outputs": [],
   "source": []
  },
  {
   "cell_type": "code",
   "execution_count": null,
   "metadata": {},
   "outputs": [],
   "source": []
  },
  {
   "cell_type": "code",
   "execution_count": null,
   "metadata": {},
   "outputs": [],
   "source": []
  },
  {
   "cell_type": "code",
   "execution_count": null,
   "metadata": {},
   "outputs": [],
   "source": []
  },
  {
   "cell_type": "code",
   "execution_count": null,
   "metadata": {},
   "outputs": [],
   "source": []
  },
  {
   "cell_type": "code",
   "execution_count": null,
   "metadata": {},
   "outputs": [],
   "source": []
  }
 ],
 "metadata": {
  "kernelspec": {
   "display_name": "Python 3",
   "language": "python",
   "name": "python3"
  },
  "language_info": {
   "codemirror_mode": {
    "name": "ipython",
    "version": 3
   },
   "file_extension": ".py",
   "mimetype": "text/x-python",
   "name": "python",
   "nbconvert_exporter": "python",
   "pygments_lexer": "ipython3",
   "version": "3.7.6"
  }
 },
 "nbformat": 4,
 "nbformat_minor": 4
}
